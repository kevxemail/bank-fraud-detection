{
 "cells": [
  {
   "cell_type": "code",
   "execution_count": 2,
   "metadata": {},
   "outputs": [],
   "source": [
    "import pandas as pd # IMPORTS\n",
    "import matplotlib.pyplot as plt\n",
    "import numpy as np\n",
    "\n",
    "from sklearn.ensemble import IsolationForest\n",
    "from sklearn.metrics import f1_score\n",
    "from sklearn.metrics import confusion_matrix\n",
    "from sklearn.model_selection import train_test_split\n",
    "from sklearn.metrics import roc_auc_score\n",
    "\n",
    "%matplotlib inline"
   ]
  },
  {
   "cell_type": "code",
   "execution_count": null,
   "metadata": {},
   "outputs": [],
   "source": [
    "bankDF = pd.read_csv(\"../Base.csv\") # Utilize the dataset that best represents the original dataset\n",
    "y_true = bankDF['fraud_bool']"
   ]
  },
  {
   "cell_type": "code",
   "execution_count": 96,
   "metadata": {},
   "outputs": [
    {
     "data": {
      "text/plain": [
       "fraud_bool                            int64\n",
       "income                              float64\n",
       "name_email_similarity               float64\n",
       "prev_address_months_count             int64\n",
       "current_address_months_count          int64\n",
       "customer_age                          int64\n",
       "days_since_request                  float64\n",
       "intended_balcon_amount              float64\n",
       "payment_type                         object\n",
       "zip_count_4w                          int64\n",
       "velocity_6h                         float64\n",
       "velocity_24h                        float64\n",
       "velocity_4w                         float64\n",
       "bank_branch_count_8w                  int64\n",
       "date_of_birth_distinct_emails_4w      int64\n",
       "employment_status                    object\n",
       "credit_risk_score                     int64\n",
       "email_is_free                         int64\n",
       "housing_status                       object\n",
       "phone_home_valid                      int64\n",
       "phone_mobile_valid                    int64\n",
       "bank_months_count                     int64\n",
       "has_other_cards                       int64\n",
       "proposed_credit_limit               float64\n",
       "foreign_request                       int64\n",
       "source                               object\n",
       "session_length_in_minutes           float64\n",
       "device_os                            object\n",
       "keep_alive_session                    int64\n",
       "device_distinct_emails_8w             int64\n",
       "device_fraud_count                    int64\n",
       "month                                 int64\n",
       "dtype: object"
      ]
     },
     "execution_count": 96,
     "metadata": {},
     "output_type": "execute_result"
    }
   ],
   "source": [
    "bankDF.dtypes"
   ]
  },
  {
   "cell_type": "code",
   "execution_count": 97,
   "metadata": {},
   "outputs": [
    {
     "data": {
      "text/plain": [
       "fraud_bool                            int64\n",
       "income                              float64\n",
       "name_email_similarity               float64\n",
       "prev_address_months_count             int64\n",
       "current_address_months_count          int64\n",
       "customer_age                          int64\n",
       "days_since_request                  float64\n",
       "intended_balcon_amount              float64\n",
       "payment_type                         object\n",
       "zip_count_4w                          int64\n",
       "velocity_6h                         float64\n",
       "velocity_24h                        float64\n",
       "velocity_4w                         float64\n",
       "bank_branch_count_8w                  int64\n",
       "date_of_birth_distinct_emails_4w      int64\n",
       "employment_status                     int64\n",
       "credit_risk_score                     int64\n",
       "email_is_free                         int64\n",
       "housing_status                       object\n",
       "phone_home_valid                      int64\n",
       "phone_mobile_valid                    int64\n",
       "bank_months_count                     int64\n",
       "has_other_cards                       int64\n",
       "proposed_credit_limit               float64\n",
       "foreign_request                       int64\n",
       "source                               object\n",
       "session_length_in_minutes           float64\n",
       "device_os                            object\n",
       "keep_alive_session                    int64\n",
       "device_distinct_emails_8w             int64\n",
       "device_fraud_count                    int64\n",
       "month                                 int64\n",
       "device_os_windows                     int64\n",
       "housing_status_BA                     int64\n",
       "dtype: object"
      ]
     },
     "execution_count": 97,
     "metadata": {},
     "output_type": "execute_result"
    }
   ],
   "source": [
    "# Quantify the employment status, 1 if CA, otherwise 0\n",
    "bankDF['employment_status'] = bankDF['employment_status'].apply(lambda x: 1 if x == 'CA' else 0)\n",
    "bankDF['device_os_windows'] = bankDF['device_os'].apply(lambda x: 1 if x == 'windows' else 0)\n",
    "bankDF['housing_status_BA'] = bankDF['housing_status'].apply(lambda x: 1 if x == 'BA' else 0)\n",
    "\n",
    "# Natural log scaling for these categories\n",
    "bankDF.dtypes"
   ]
  },
  {
   "cell_type": "code",
   "execution_count": 49,
   "metadata": {},
   "outputs": [
    {
     "data": {
      "text/plain": [
       "<AxesSubplot: >"
      ]
     },
     "execution_count": 49,
     "metadata": {},
     "output_type": "execute_result"
    },
    {
     "data": {
      "image/png": "[encoded data removed]",
      "text/plain": [
       "<Figure size 640x480 with 1 Axes>"
      ]
     },
     "metadata": {},
     "output_type": "display_data"
    }
   ],
   "source": [
    "bankDF['employment_status'].value_counts().plot(kind='bar')"
   ]
  },
  {
   "cell_type": "code",
   "execution_count": 50,
   "metadata": {},
   "outputs": [
    {
     "data": {
      "text/plain": [
       "<AxesSubplot: ylabel='Frequency'>"
      ]
     },
     "execution_count": 50,
     "metadata": {},
     "output_type": "execute_result"
    },
    {
     "data": {
      "image/png": "[encoded data removed]",
      "text/plain": [
       "<Figure size 640x480 with 1 Axes>"
      ]
     },
     "metadata": {},
     "output_type": "display_data"
    }
   ],
   "source": [
    "bankDF.employment_status.plot.hist() # Experiment with the data"
   ]
  },
  {
   "cell_type": "code",
   "execution_count": 5,
   "metadata": {},
   "outputs": [
    {
     "data": {
      "text/plain": [
       "Text(0, 0.5, 'fraud_bool')"
      ]
     },
     "execution_count": 5,
     "metadata": {},
     "output_type": "execute_result"
    },
    {
     "data": {
      "image/png": "[encoded data removed]",
      "text/plain": [
       "<Figure size 640x480 with 1 Axes>"
      ]
     },
     "metadata": {},
     "output_type": "display_data"
    }
   ],
   "source": [
    "plt.scatter(bankDF['session_length_in_minutes'], bankDF['fraud_bool'])\n",
    "plt.xlabel('session_length_in_minutes')\n",
    "plt.ylabel('fraud_bool')"
   ]
  },
  {
   "cell_type": "code",
   "execution_count": 6,
   "metadata": {},
   "outputs": [],
   "source": [
    "def train(isf, ensemble, sample_size, filtered_data):\n",
    "    model_list = list()\n",
    "    for i in range(ensemble):\n",
    "        to_train = filtered_data.sample(sample_size)\n",
    "        temp = isf.fit(to_train)\n",
    "        model_list.append(temp)\n",
    "    return model_list\n",
    "\n",
    "def predict(model_list, X_test):\n",
    "    pass1 = list()\n",
    "    for model in model_list:\n",
    "        y_pred = model.predict(X_test)\n",
    "        y_pred_binary = [1 if x == -1 else 0 for x in y_pred]\n",
    "        pass1.append(y_pred_binary)\n",
    "    res = list() # Get a \"vote\" for which classification each model thinks would work best\n",
    "    for j in range(len(pass1[0])): # Iterates through each prediction\n",
    "        count_zero = 0\n",
    "        count_one = 0\n",
    "        for i in range(len(pass1)): # Iterates through each model's prediction set\n",
    "            if pass1[i][j] == 0:\n",
    "                count_zero += 1\n",
    "            else:\n",
    "                count_one += 1\n",
    "        if (count_zero > count_one):\n",
    "            res.append(0)\n",
    "        else:\n",
    "            res.append(1)\n",
    "    return res"
   ]
  },
  {
   "cell_type": "code",
   "execution_count": 66,
   "metadata": {},
   "outputs": [],
   "source": [
    "used_cols = [\"income\",\"name_email_similarity\", \"prev_address_months_count\", \"current_address_months_count\", \"customer_age\", \"days_since_request\", \"intended_balcon_amount\", \"zip_count_4w\", \"velocity_6h\", \"velocity_24h\", \"velocity_4w\", \"bank_branch_count_8w\", \"date_of_birth_distinct_emails_4w\", \"credit_risk_score\", \"email_is_free\", \"phone_home_valid\", \"phone_mobile_valid\", \"bank_months_count\", \"has_other_cards\", \"proposed_credit_limit\", \"foreign_request\", \"session_length_in_minutes\", \"keep_alive_session\", \"employment_status\", \"device_os_windows\", \"housing_status_BA\"] #, \"foreign_request\", \"device_distinct_emails_8w\"]\n",
    "# filtered_data = bankDF[used_cols]\n",
    "# X_train, X_test, y_train, y_test = train_test_split(filtered_data, y_true, test_size=0.3, random_state=42) # Random state same as the other one, use 30% for testing\n",
    "# X_train.head()"
   ]
  },
  {
   "cell_type": "code",
   "execution_count": 91,
   "metadata": {},
   "outputs": [],
   "source": [
    "# Cell for feature engineering one model to test it out\n",
    "isf = IsolationForest(n_estimators=100, max_samples='auto',\n",
    "                        max_features=1.0, bootstrap=False, n_jobs=-1, random_state=42)"
   ]
  },
  {
   "cell_type": "code",
   "execution_count": 98,
   "metadata": {},
   "outputs": [
    {
     "data": {
      "text/plain": [
       "0.718172587976131"
      ]
     },
     "execution_count": 98,
     "metadata": {},
     "output_type": "execute_result"
    }
   ],
   "source": [
    "good_cols = bankDF[used_cols]\n",
    "random_cols = ['housing_status_BA', 'device_os_windows']\n",
    "filtered_data = good_cols[random_cols]\n",
    "X_train, X_test, y_train, y_test = train_test_split(filtered_data, y_true, test_size=0.3, random_state=42)\n",
    "model_list = train(isf, 7, 30000, filtered_data)\n",
    "y_processed = y_test.values\n",
    "y_pred_binary = predict(model_list, X_test)\n",
    "roc = roc_auc_score(y_processed, y_pred_binary)\n",
    "roc"
   ]
  },
  {
   "cell_type": "code",
   "execution_count": 9,
   "metadata": {},
   "outputs": [
    {
     "name": "stdout",
     "output_type": "stream",
     "text": [
      "Best Columns: \n",
      "['keep_alive_session']\n",
      "Best ROC AUC: 0.5\n",
      "Best Columns: \n",
      "['customer_age']\n",
      "Best ROC AUC: 0.5969967901419008\n",
      "Best Columns: \n",
      "['proposed_credit_limit']\n",
      "Best ROC AUC: 0.6052023132488998\n",
      "Best Columns: \n",
      "['proposed_credit_limit']\n",
      "Best ROC AUC: 0.6055005079076775\n",
      "Best Columns: \n",
      "['credit_risk_score' 'customer_age']\n",
      "Best ROC AUC: 0.6076006951151186\n",
      "Best Columns: \n",
      "['proposed_credit_limit' 'foreign_request']\n",
      "Best ROC AUC: 0.6099634673146788\n",
      "Best Columns: \n",
      "['proposed_credit_limit' 'velocity_24h' 'customer_age']\n",
      "Best ROC AUC: 0.6130861154354708\n",
      "Best Columns: \n",
      "['customer_age' 'proposed_credit_limit' 'session_length_in_minutes'\n",
      " 'credit_risk_score' 'foreign_request' 'keep_alive_session']\n",
      "Best ROC AUC: 0.6277952173040097\n"
     ]
    }
   ],
   "source": [
    "\"\"\"\n",
    "Use this block to find the best randomly chosen features thus far. It'll test 1 to 23 features and print out the best set\n",
    "\"\"\"\n",
    "good_cols = bankDF[used_cols]\n",
    "isf = IsolationForest(n_estimators=100, max_samples='auto',\n",
    "                        max_features=1.0, bootstrap=False, n_jobs=-1, random_state=42)\n",
    "\n",
    "# isf.fit(X_train, isf)\n",
    "best_roc = 0\n",
    "best_cols = list()\n",
    "for n in range(1, 23):\n",
    "    for x in range(70):\n",
    "        random_cols = np.random.choice(good_cols.columns, size=n, replace=False) # How many random features to take\n",
    "\n",
    "        filtered_data = good_cols[random_cols]\n",
    "        X_train, X_test, y_train, y_test = train_test_split(filtered_data, y_true, test_size=0.3, random_state=42)\n",
    "        model_list = train(isf, 5, 30000, filtered_data)\n",
    "        y_processed = y_test.values\n",
    "        y_pred_binary = predict(model_list, X_test)\n",
    "        roc = roc_auc_score(y_processed, y_pred_binary)\n",
    "        if roc > best_roc:\n",
    "            best_roc = roc\n",
    "            best_cols = random_cols\n",
    "            print(\"Best Columns: \")\n",
    "            print(random_cols)\n",
    "            print(\"Best ROC AUC: \" + str(roc))"
   ]
  },
  {
   "cell_type": "code",
   "execution_count": 64,
   "metadata": {},
   "outputs": [
    {
     "name": "stdout",
     "output_type": "stream",
     "text": [
      "Best Columns: \n",
      "['proposed_credit_limit', 'customer_age', 'credit_risk_score', 'name_email_similarity', 'customer_age', 'keep_alive_session', 'velocity_4w', 'income']\n",
      "Best ROC AUC: 0.6386612648611467\n",
      "Best Columns: \n",
      "['proposed_credit_limit', 'customer_age', 'credit_risk_score', 'name_email_similarity', 'customer_age', 'keep_alive_session', 'velocity_4w', 'foreign_request']\n",
      "Best ROC AUC: 0.6437577077310614\n",
      "Best Columns: \n",
      "['proposed_credit_limit', 'customer_age', 'credit_risk_score', 'name_email_similarity', 'customer_age', 'keep_alive_session', 'velocity_4w', 'foreign_request', 'income']\n",
      "Best ROC AUC: 0.6339177337381219\n",
      "Best Columns: \n",
      "['proposed_credit_limit', 'customer_age', 'credit_risk_score', 'name_email_similarity', 'customer_age', 'keep_alive_session', 'velocity_4w', 'foreign_request', 'zip_count_4w']\n",
      "Best ROC AUC: 0.6385472860414455\n",
      "Best Columns: \n",
      "['proposed_credit_limit', 'customer_age', 'credit_risk_score', 'name_email_similarity', 'customer_age', 'keep_alive_session', 'velocity_4w', 'foreign_request', 'phone_mobile_valid']\n",
      "Best ROC AUC: 0.6402861987289835\n",
      "Best Columns: \n",
      "['proposed_credit_limit', 'customer_age', 'credit_risk_score', 'name_email_similarity', 'customer_age', 'keep_alive_session', 'velocity_4w', 'foreign_request', 'bank_months_count']\n",
      "Best ROC AUC: 0.6435438788483219\n",
      "Best Columns: \n",
      "['proposed_credit_limit', 'customer_age', 'credit_risk_score', 'name_email_similarity', 'customer_age', 'keep_alive_session', 'velocity_4w', 'foreign_request', 'bank_months_count', 'income']\n",
      "Best ROC AUC: 0.6317705107811502\n",
      "Best Columns: \n",
      "['proposed_credit_limit', 'customer_age', 'credit_risk_score', 'name_email_similarity', 'customer_age', 'keep_alive_session', 'velocity_4w', 'foreign_request', 'bank_months_count', 'zip_count_4w']\n",
      "Best ROC AUC: 0.6391117003587629\n",
      "Best Columns: \n",
      "['proposed_credit_limit', 'customer_age', 'credit_risk_score', 'name_email_similarity', 'customer_age', 'keep_alive_session', 'velocity_4w', 'foreign_request', 'bank_months_count', 'zip_count_4w', 'income']\n",
      "Best ROC AUC: 0.6326894387404515\n",
      "Best Columns: \n",
      "['proposed_credit_limit', 'customer_age', 'credit_risk_score', 'name_email_similarity', 'customer_age', 'keep_alive_session', 'velocity_4w', 'foreign_request', 'bank_months_count', 'zip_count_4w', 'date_of_birth_distinct_emails_4w']\n",
      "Best ROC AUC: 0.6423170966350891\n",
      "Best Columns: \n",
      "['proposed_credit_limit', 'customer_age', 'credit_risk_score', 'name_email_similarity', 'customer_age', 'keep_alive_session', 'velocity_4w', 'foreign_request', 'bank_months_count', 'zip_count_4w', 'date_of_birth_distinct_emails_4w', 'income']\n",
      "Best ROC AUC: 0.625308508955166\n",
      "Best Columns: \n",
      "['proposed_credit_limit', 'customer_age', 'credit_risk_score', 'name_email_similarity', 'customer_age', 'keep_alive_session', 'velocity_4w', 'foreign_request', 'bank_months_count', 'zip_count_4w', 'date_of_birth_distinct_emails_4w', 'current_address_months_count']\n",
      "Best ROC AUC: 0.6289888157571595\n"
     ]
    },
    {
     "ename": "KeyboardInterrupt",
     "evalue": "",
     "output_type": "error",
     "traceback": [
      "\u001b[0;31m---------------------------------------------------------------------------\u001b[0m",
      "\u001b[0;31mKeyboardInterrupt\u001b[0m                         Traceback (most recent call last)",
      "Cell \u001b[0;32mIn[64], line 21\u001b[0m\n\u001b[1;32m     19\u001b[0m model_list \u001b[38;5;241m=\u001b[39m train(isf, \u001b[38;5;241m5\u001b[39m, \u001b[38;5;241m30000\u001b[39m, filtered_data)\n\u001b[1;32m     20\u001b[0m y_processed \u001b[38;5;241m=\u001b[39m y_test\u001b[38;5;241m.\u001b[39mvalues\n\u001b[0;32m---> 21\u001b[0m y_pred_binary \u001b[38;5;241m=\u001b[39m \u001b[43mpredict\u001b[49m\u001b[43m(\u001b[49m\u001b[43mmodel_list\u001b[49m\u001b[43m,\u001b[49m\u001b[43m \u001b[49m\u001b[43mX_test\u001b[49m\u001b[43m)\u001b[49m\n\u001b[1;32m     22\u001b[0m roc \u001b[38;5;241m=\u001b[39m roc_auc_score(y_processed, y_pred_binary)\n\u001b[1;32m     24\u001b[0m \u001b[38;5;28;01mif\u001b[39;00m roc \u001b[38;5;241m>\u001b[39m best_roc \u001b[38;5;129;01mand\u001b[39;00m roc \u001b[38;5;241m>\u001b[39m \u001b[38;5;241m0.6\u001b[39m:\n",
      "Cell \u001b[0;32mIn[6], line 12\u001b[0m, in \u001b[0;36mpredict\u001b[0;34m(model_list, X_test)\u001b[0m\n\u001b[1;32m     10\u001b[0m pass1 \u001b[38;5;241m=\u001b[39m \u001b[38;5;28mlist\u001b[39m()\n\u001b[1;32m     11\u001b[0m \u001b[38;5;28;01mfor\u001b[39;00m model \u001b[38;5;129;01min\u001b[39;00m model_list:\n\u001b[0;32m---> 12\u001b[0m     y_pred \u001b[38;5;241m=\u001b[39m \u001b[43mmodel\u001b[49m\u001b[38;5;241;43m.\u001b[39;49m\u001b[43mpredict\u001b[49m\u001b[43m(\u001b[49m\u001b[43mX_test\u001b[49m\u001b[43m)\u001b[49m\n\u001b[1;32m     13\u001b[0m     y_pred_binary \u001b[38;5;241m=\u001b[39m [\u001b[38;5;241m1\u001b[39m \u001b[38;5;28;01mif\u001b[39;00m x \u001b[38;5;241m==\u001b[39m \u001b[38;5;241m-\u001b[39m\u001b[38;5;241m1\u001b[39m \u001b[38;5;28;01melse\u001b[39;00m \u001b[38;5;241m0\u001b[39m \u001b[38;5;28;01mfor\u001b[39;00m x \u001b[38;5;129;01min\u001b[39;00m y_pred]\n\u001b[1;32m     14\u001b[0m     pass1\u001b[38;5;241m.\u001b[39mappend(y_pred_binary)\n",
      "File \u001b[0;32m/Library/Frameworks/Python.framework/Versions/3.9/lib/python3.9/site-packages/sklearn/ensemble/_iforest.py:369\u001b[0m, in \u001b[0;36mIsolationForest.predict\u001b[0;34m(self, X)\u001b[0m\n\u001b[1;32m    352\u001b[0m \u001b[38;5;250m\u001b[39m\u001b[38;5;124;03m\"\"\"\u001b[39;00m\n\u001b[1;32m    353\u001b[0m \u001b[38;5;124;03mPredict if a particular sample is an outlier or not.\u001b[39;00m\n\u001b[1;32m    354\u001b[0m \n\u001b[0;32m   (...)\u001b[0m\n\u001b[1;32m    366\u001b[0m \u001b[38;5;124;03m    be considered as an inlier according to the fitted model.\u001b[39;00m\n\u001b[1;32m    367\u001b[0m \u001b[38;5;124;03m\"\"\"\u001b[39;00m\n\u001b[1;32m    368\u001b[0m check_is_fitted(\u001b[38;5;28mself\u001b[39m)\n\u001b[0;32m--> 369\u001b[0m decision_func \u001b[38;5;241m=\u001b[39m \u001b[38;5;28;43mself\u001b[39;49m\u001b[38;5;241;43m.\u001b[39;49m\u001b[43mdecision_function\u001b[49m\u001b[43m(\u001b[49m\u001b[43mX\u001b[49m\u001b[43m)\u001b[49m\n\u001b[1;32m    370\u001b[0m is_inlier \u001b[38;5;241m=\u001b[39m np\u001b[38;5;241m.\u001b[39mones_like(decision_func, dtype\u001b[38;5;241m=\u001b[39m\u001b[38;5;28mint\u001b[39m)\n\u001b[1;32m    371\u001b[0m is_inlier[decision_func \u001b[38;5;241m<\u001b[39m \u001b[38;5;241m0\u001b[39m] \u001b[38;5;241m=\u001b[39m \u001b[38;5;241m-\u001b[39m\u001b[38;5;241m1\u001b[39m\n",
      "File \u001b[0;32m/Library/Frameworks/Python.framework/Versions/3.9/lib/python3.9/site-packages/sklearn/ensemble/_iforest.py:404\u001b[0m, in \u001b[0;36mIsolationForest.decision_function\u001b[0;34m(self, X)\u001b[0m\n\u001b[1;32m    375\u001b[0m \u001b[38;5;250m\u001b[39m\u001b[38;5;124;03m\"\"\"\u001b[39;00m\n\u001b[1;32m    376\u001b[0m \u001b[38;5;124;03mAverage anomaly score of X of the base classifiers.\u001b[39;00m\n\u001b[1;32m    377\u001b[0m \n\u001b[0;32m   (...)\u001b[0m\n\u001b[1;32m    399\u001b[0m \u001b[38;5;124;03m    positive scores represent inliers.\u001b[39;00m\n\u001b[1;32m    400\u001b[0m \u001b[38;5;124;03m\"\"\"\u001b[39;00m\n\u001b[1;32m    401\u001b[0m \u001b[38;5;66;03m# We subtract self.offset_ to make 0 be the threshold value for being\u001b[39;00m\n\u001b[1;32m    402\u001b[0m \u001b[38;5;66;03m# an outlier:\u001b[39;00m\n\u001b[0;32m--> 404\u001b[0m \u001b[38;5;28;01mreturn\u001b[39;00m \u001b[38;5;28;43mself\u001b[39;49m\u001b[38;5;241;43m.\u001b[39;49m\u001b[43mscore_samples\u001b[49m\u001b[43m(\u001b[49m\u001b[43mX\u001b[49m\u001b[43m)\u001b[49m \u001b[38;5;241m-\u001b[39m \u001b[38;5;28mself\u001b[39m\u001b[38;5;241m.\u001b[39moffset_\n",
      "File \u001b[0;32m/Library/Frameworks/Python.framework/Versions/3.9/lib/python3.9/site-packages/sklearn/ensemble/_iforest.py:433\u001b[0m, in \u001b[0;36mIsolationForest.score_samples\u001b[0;34m(self, X)\u001b[0m\n\u001b[1;32m    430\u001b[0m \u001b[38;5;66;03m# Check data\u001b[39;00m\n\u001b[1;32m    431\u001b[0m X \u001b[38;5;241m=\u001b[39m \u001b[38;5;28mself\u001b[39m\u001b[38;5;241m.\u001b[39m_validate_data(X, accept_sparse\u001b[38;5;241m=\u001b[39m\u001b[38;5;124m\"\u001b[39m\u001b[38;5;124mcsr\u001b[39m\u001b[38;5;124m\"\u001b[39m, dtype\u001b[38;5;241m=\u001b[39mtree_dtype, reset\u001b[38;5;241m=\u001b[39m\u001b[38;5;28;01mFalse\u001b[39;00m)\n\u001b[0;32m--> 433\u001b[0m \u001b[38;5;28;01mreturn\u001b[39;00m \u001b[38;5;28;43mself\u001b[39;49m\u001b[38;5;241;43m.\u001b[39;49m\u001b[43m_score_samples\u001b[49m\u001b[43m(\u001b[49m\u001b[43mX\u001b[49m\u001b[43m)\u001b[49m\n",
      "File \u001b[0;32m/Library/Frameworks/Python.framework/Versions/3.9/lib/python3.9/site-packages/sklearn/ensemble/_iforest.py:445\u001b[0m, in \u001b[0;36mIsolationForest._score_samples\u001b[0;34m(self, X)\u001b[0m\n\u001b[1;32m    442\u001b[0m check_is_fitted(\u001b[38;5;28mself\u001b[39m)\n\u001b[1;32m    444\u001b[0m \u001b[38;5;66;03m# Take the opposite of the scores as bigger is better (here less abnormal)\u001b[39;00m\n\u001b[0;32m--> 445\u001b[0m \u001b[38;5;28;01mreturn\u001b[39;00m \u001b[38;5;241m-\u001b[39m\u001b[38;5;28;43mself\u001b[39;49m\u001b[38;5;241;43m.\u001b[39;49m\u001b[43m_compute_chunked_score_samples\u001b[49m\u001b[43m(\u001b[49m\u001b[43mX\u001b[49m\u001b[43m)\u001b[49m\n",
      "File \u001b[0;32m/Library/Frameworks/Python.framework/Versions/3.9/lib/python3.9/site-packages/sklearn/ensemble/_iforest.py:475\u001b[0m, in \u001b[0;36mIsolationForest._compute_chunked_score_samples\u001b[0;34m(self, X)\u001b[0m\n\u001b[1;32m    471\u001b[0m scores \u001b[38;5;241m=\u001b[39m np\u001b[38;5;241m.\u001b[39mzeros(n_samples, order\u001b[38;5;241m=\u001b[39m\u001b[38;5;124m\"\u001b[39m\u001b[38;5;124mf\u001b[39m\u001b[38;5;124m\"\u001b[39m)\n\u001b[1;32m    473\u001b[0m \u001b[38;5;28;01mfor\u001b[39;00m sl \u001b[38;5;129;01min\u001b[39;00m slices:\n\u001b[1;32m    474\u001b[0m     \u001b[38;5;66;03m# compute score on the slices of test samples:\u001b[39;00m\n\u001b[0;32m--> 475\u001b[0m     scores[sl] \u001b[38;5;241m=\u001b[39m \u001b[38;5;28;43mself\u001b[39;49m\u001b[38;5;241;43m.\u001b[39;49m\u001b[43m_compute_score_samples\u001b[49m\u001b[43m(\u001b[49m\u001b[43mX\u001b[49m\u001b[43m[\u001b[49m\u001b[43msl\u001b[49m\u001b[43m]\u001b[49m\u001b[43m,\u001b[49m\u001b[43m \u001b[49m\u001b[43msubsample_features\u001b[49m\u001b[43m)\u001b[49m\n\u001b[1;32m    477\u001b[0m \u001b[38;5;28;01mreturn\u001b[39;00m scores\n",
      "File \u001b[0;32m/Library/Frameworks/Python.framework/Versions/3.9/lib/python3.9/site-packages/sklearn/ensemble/_iforest.py:502\u001b[0m, in \u001b[0;36mIsolationForest._compute_score_samples\u001b[0;34m(self, X, subsample_features)\u001b[0m\n\u001b[1;32m    497\u001b[0m \u001b[38;5;28;01mfor\u001b[39;00m tree_idx, (tree, features) \u001b[38;5;129;01min\u001b[39;00m \u001b[38;5;28menumerate\u001b[39m(\n\u001b[1;32m    498\u001b[0m     \u001b[38;5;28mzip\u001b[39m(\u001b[38;5;28mself\u001b[39m\u001b[38;5;241m.\u001b[39mestimators_, \u001b[38;5;28mself\u001b[39m\u001b[38;5;241m.\u001b[39mestimators_features_)\n\u001b[1;32m    499\u001b[0m ):\n\u001b[1;32m    500\u001b[0m     X_subset \u001b[38;5;241m=\u001b[39m X[:, features] \u001b[38;5;28;01mif\u001b[39;00m subsample_features \u001b[38;5;28;01melse\u001b[39;00m X\n\u001b[0;32m--> 502\u001b[0m     leaves_index \u001b[38;5;241m=\u001b[39m \u001b[43mtree\u001b[49m\u001b[38;5;241;43m.\u001b[39;49m\u001b[43mapply\u001b[49m\u001b[43m(\u001b[49m\u001b[43mX_subset\u001b[49m\u001b[43m,\u001b[49m\u001b[43m \u001b[49m\u001b[43mcheck_input\u001b[49m\u001b[38;5;241;43m=\u001b[39;49m\u001b[38;5;28;43;01mFalse\u001b[39;49;00m\u001b[43m)\u001b[49m\n\u001b[1;32m    504\u001b[0m     depths \u001b[38;5;241m+\u001b[39m\u001b[38;5;241m=\u001b[39m (\n\u001b[1;32m    505\u001b[0m         \u001b[38;5;28mself\u001b[39m\u001b[38;5;241m.\u001b[39m_decision_path_lengths[tree_idx][leaves_index]\n\u001b[1;32m    506\u001b[0m         \u001b[38;5;241m+\u001b[39m \u001b[38;5;28mself\u001b[39m\u001b[38;5;241m.\u001b[39m_average_path_length_per_tree[tree_idx][leaves_index]\n\u001b[1;32m    507\u001b[0m         \u001b[38;5;241m-\u001b[39m \u001b[38;5;241m1.0\u001b[39m\n\u001b[1;32m    508\u001b[0m     )\n\u001b[1;32m    509\u001b[0m denominator \u001b[38;5;241m=\u001b[39m \u001b[38;5;28mlen\u001b[39m(\u001b[38;5;28mself\u001b[39m\u001b[38;5;241m.\u001b[39mestimators_) \u001b[38;5;241m*\u001b[39m average_path_length_max_samples\n",
      "File \u001b[0;32m/Library/Frameworks/Python.framework/Versions/3.9/lib/python3.9/site-packages/sklearn/tree/_classes.py:582\u001b[0m, in \u001b[0;36mBaseDecisionTree.apply\u001b[0;34m(self, X, check_input)\u001b[0m\n\u001b[1;32m    580\u001b[0m check_is_fitted(\u001b[38;5;28mself\u001b[39m)\n\u001b[1;32m    581\u001b[0m X \u001b[38;5;241m=\u001b[39m \u001b[38;5;28mself\u001b[39m\u001b[38;5;241m.\u001b[39m_validate_X_predict(X, check_input)\n\u001b[0;32m--> 582\u001b[0m \u001b[38;5;28;01mreturn\u001b[39;00m \u001b[38;5;28;43mself\u001b[39;49m\u001b[38;5;241;43m.\u001b[39;49m\u001b[43mtree_\u001b[49m\u001b[38;5;241;43m.\u001b[39;49m\u001b[43mapply\u001b[49m\u001b[43m(\u001b[49m\u001b[43mX\u001b[49m\u001b[43m)\u001b[49m\n",
      "\u001b[0;31mKeyboardInterrupt\u001b[0m: "
     ]
    }
   ],
   "source": [
    "\"\"\"\n",
    "More thorough approach. Test each combination of each feature\n",
    "\"\"\"\n",
    "good_cols = bankDF[used_cols]\n",
    "isf = IsolationForest(n_estimators=100, max_samples='auto',\n",
    "                        max_features=1.0, bootstrap=False, n_jobs=-1, random_state=42)\n",
    "\n",
    "# isf.fit(X_train, isf)\n",
    "random_cols = ['proposed_credit_limit', 'customer_age', 'credit_risk_score', 'name_email_similarity', 'customer_age', 'keep_alive_session', 'velocity_4w']\n",
    "for n in range(1, 17):\n",
    "    best_roc = 0\n",
    "    best_col = \"\"\n",
    "    for new_feature in used_cols:\n",
    "        if new_feature not in random_cols:\n",
    "            random_cols.append(new_feature) # Grab the next feature\n",
    "\n",
    "            filtered_data = good_cols[random_cols]\n",
    "            X_train, X_test, y_train, y_test = train_test_split(filtered_data, y_true, test_size=0.3, random_state=42)\n",
    "            model_list = train(isf, 5, 30000, filtered_data)\n",
    "            y_processed = y_test.values\n",
    "            y_pred_binary = predict(model_list, X_test)\n",
    "            roc = roc_auc_score(y_processed, y_pred_binary)\n",
    "\n",
    "            if roc > best_roc and roc > 0.6:\n",
    "                best_roc = roc\n",
    "                best_col = new_feature\n",
    "                print(\"Best Columns: \")\n",
    "                print(random_cols)\n",
    "                print(\"Best ROC AUC: \" + str(roc))\n",
    "            random_cols.pop() # Remove this feature to test another one at this size\n",
    "    random_cols.append(best_col)\n",
    "    # Append the best feature we found for this size to random_cols"
   ]
  },
  {
   "cell_type": "code",
   "execution_count": 60,
   "metadata": {},
   "outputs": [
    {
     "ename": "KeyboardInterrupt",
     "evalue": "",
     "output_type": "error",
     "traceback": [
      "\u001b[0;31m---------------------------------------------------------------------------\u001b[0m",
      "\u001b[0;31mKeyboardInterrupt\u001b[0m                         Traceback (most recent call last)",
      "Cell \u001b[0;32mIn[60], line 11\u001b[0m\n\u001b[1;32m      9\u001b[0m filtered_data \u001b[38;5;241m=\u001b[39m good_cols[random_cols]\n\u001b[1;32m     10\u001b[0m X_train, X_test, y_train, y_test \u001b[38;5;241m=\u001b[39m train_test_split(filtered_data, y_true, test_size\u001b[38;5;241m=\u001b[39m\u001b[38;5;241m0.3\u001b[39m, random_state\u001b[38;5;241m=\u001b[39m\u001b[38;5;241m42\u001b[39m)\n\u001b[0;32m---> 11\u001b[0m model_list \u001b[38;5;241m=\u001b[39m \u001b[43mtrain\u001b[49m\u001b[43m(\u001b[49m\u001b[43misf\u001b[49m\u001b[43m,\u001b[49m\u001b[43m \u001b[49m\u001b[38;5;241;43m7\u001b[39;49m\u001b[43m,\u001b[49m\u001b[43m \u001b[49m\u001b[38;5;241;43m30000\u001b[39;49m\u001b[43m,\u001b[49m\u001b[43m \u001b[49m\u001b[43mfiltered_data\u001b[49m\u001b[43m)\u001b[49m\n\u001b[1;32m     12\u001b[0m y_processed \u001b[38;5;241m=\u001b[39m y_test\u001b[38;5;241m.\u001b[39mvalues\n\u001b[1;32m     13\u001b[0m y_pred_binary \u001b[38;5;241m=\u001b[39m predict(model_list, X_test)\n",
      "Cell \u001b[0;32mIn[6], line 5\u001b[0m, in \u001b[0;36mtrain\u001b[0;34m(isf, ensemble, sample_size, filtered_data)\u001b[0m\n\u001b[1;32m      3\u001b[0m \u001b[38;5;28;01mfor\u001b[39;00m i \u001b[38;5;129;01min\u001b[39;00m \u001b[38;5;28mrange\u001b[39m(ensemble):\n\u001b[1;32m      4\u001b[0m     to_train \u001b[38;5;241m=\u001b[39m filtered_data\u001b[38;5;241m.\u001b[39msample(sample_size)\n\u001b[0;32m----> 5\u001b[0m     temp \u001b[38;5;241m=\u001b[39m \u001b[43misf\u001b[49m\u001b[38;5;241;43m.\u001b[39;49m\u001b[43mfit\u001b[49m\u001b[43m(\u001b[49m\u001b[43mto_train\u001b[49m\u001b[43m)\u001b[49m\n\u001b[1;32m      6\u001b[0m     model_list\u001b[38;5;241m.\u001b[39mappend(temp)\n\u001b[1;32m      7\u001b[0m \u001b[38;5;28;01mreturn\u001b[39;00m model_list\n",
      "File \u001b[0;32m/Library/Frameworks/Python.framework/Versions/3.9/lib/python3.9/site-packages/sklearn/base.py:1474\u001b[0m, in \u001b[0;36m_fit_context.<locals>.decorator.<locals>.wrapper\u001b[0;34m(estimator, *args, **kwargs)\u001b[0m\n\u001b[1;32m   1467\u001b[0m     estimator\u001b[38;5;241m.\u001b[39m_validate_params()\n\u001b[1;32m   1469\u001b[0m \u001b[38;5;28;01mwith\u001b[39;00m config_context(\n\u001b[1;32m   1470\u001b[0m     skip_parameter_validation\u001b[38;5;241m=\u001b[39m(\n\u001b[1;32m   1471\u001b[0m         prefer_skip_nested_validation \u001b[38;5;129;01mor\u001b[39;00m global_skip_validation\n\u001b[1;32m   1472\u001b[0m     )\n\u001b[1;32m   1473\u001b[0m ):\n\u001b[0;32m-> 1474\u001b[0m     \u001b[38;5;28;01mreturn\u001b[39;00m \u001b[43mfit_method\u001b[49m\u001b[43m(\u001b[49m\u001b[43mestimator\u001b[49m\u001b[43m,\u001b[49m\u001b[43m \u001b[49m\u001b[38;5;241;43m*\u001b[39;49m\u001b[43margs\u001b[49m\u001b[43m,\u001b[49m\u001b[43m \u001b[49m\u001b[38;5;241;43m*\u001b[39;49m\u001b[38;5;241;43m*\u001b[39;49m\u001b[43mkwargs\u001b[49m\u001b[43m)\u001b[49m\n",
      "File \u001b[0;32m/Library/Frameworks/Python.framework/Versions/3.9/lib/python3.9/site-packages/sklearn/ensemble/_iforest.py:316\u001b[0m, in \u001b[0;36mIsolationForest.fit\u001b[0;34m(self, X, y, sample_weight)\u001b[0m\n\u001b[1;32m    314\u001b[0m \u001b[38;5;28mself\u001b[39m\u001b[38;5;241m.\u001b[39mmax_samples_ \u001b[38;5;241m=\u001b[39m max_samples\n\u001b[1;32m    315\u001b[0m max_depth \u001b[38;5;241m=\u001b[39m \u001b[38;5;28mint\u001b[39m(np\u001b[38;5;241m.\u001b[39mceil(np\u001b[38;5;241m.\u001b[39mlog2(\u001b[38;5;28mmax\u001b[39m(max_samples, \u001b[38;5;241m2\u001b[39m))))\n\u001b[0;32m--> 316\u001b[0m \u001b[38;5;28;43msuper\u001b[39;49m\u001b[43m(\u001b[49m\u001b[43m)\u001b[49m\u001b[38;5;241;43m.\u001b[39;49m\u001b[43m_fit\u001b[49m\u001b[43m(\u001b[49m\n\u001b[1;32m    317\u001b[0m \u001b[43m    \u001b[49m\u001b[43mX\u001b[49m\u001b[43m,\u001b[49m\n\u001b[1;32m    318\u001b[0m \u001b[43m    \u001b[49m\u001b[43my\u001b[49m\u001b[43m,\u001b[49m\n\u001b[1;32m    319\u001b[0m \u001b[43m    \u001b[49m\u001b[43mmax_samples\u001b[49m\u001b[43m,\u001b[49m\n\u001b[1;32m    320\u001b[0m \u001b[43m    \u001b[49m\u001b[43mmax_depth\u001b[49m\u001b[38;5;241;43m=\u001b[39;49m\u001b[43mmax_depth\u001b[49m\u001b[43m,\u001b[49m\n\u001b[1;32m    321\u001b[0m \u001b[43m    \u001b[49m\u001b[43msample_weight\u001b[49m\u001b[38;5;241;43m=\u001b[39;49m\u001b[43msample_weight\u001b[49m\u001b[43m,\u001b[49m\n\u001b[1;32m    322\u001b[0m \u001b[43m    \u001b[49m\u001b[43mcheck_input\u001b[49m\u001b[38;5;241;43m=\u001b[39;49m\u001b[38;5;28;43;01mFalse\u001b[39;49;00m\u001b[43m,\u001b[49m\n\u001b[1;32m    323\u001b[0m \u001b[43m\u001b[49m\u001b[43m)\u001b[49m\n\u001b[1;32m    325\u001b[0m \u001b[38;5;28mself\u001b[39m\u001b[38;5;241m.\u001b[39m_average_path_length_per_tree, \u001b[38;5;28mself\u001b[39m\u001b[38;5;241m.\u001b[39m_decision_path_lengths \u001b[38;5;241m=\u001b[39m \u001b[38;5;28mzip\u001b[39m(\n\u001b[1;32m    326\u001b[0m     \u001b[38;5;241m*\u001b[39m[\n\u001b[1;32m    327\u001b[0m         (\n\u001b[0;32m   (...)\u001b[0m\n\u001b[1;32m    332\u001b[0m     ]\n\u001b[1;32m    333\u001b[0m )\n\u001b[1;32m    335\u001b[0m \u001b[38;5;28;01mif\u001b[39;00m \u001b[38;5;28mself\u001b[39m\u001b[38;5;241m.\u001b[39mcontamination \u001b[38;5;241m==\u001b[39m \u001b[38;5;124m\"\u001b[39m\u001b[38;5;124mauto\u001b[39m\u001b[38;5;124m\"\u001b[39m:\n\u001b[1;32m    336\u001b[0m     \u001b[38;5;66;03m# 0.5 plays a special role as described in the original paper.\u001b[39;00m\n\u001b[1;32m    337\u001b[0m     \u001b[38;5;66;03m# we take the opposite as we consider the opposite of their score.\u001b[39;00m\n",
      "File \u001b[0;32m/Library/Frameworks/Python.framework/Versions/3.9/lib/python3.9/site-packages/sklearn/ensemble/_bagging.py:469\u001b[0m, in \u001b[0;36mBaseBagging._fit\u001b[0;34m(self, X, y, max_samples, max_depth, sample_weight, check_input)\u001b[0m\n\u001b[1;32m    466\u001b[0m seeds \u001b[38;5;241m=\u001b[39m random_state\u001b[38;5;241m.\u001b[39mrandint(MAX_INT, size\u001b[38;5;241m=\u001b[39mn_more_estimators)\n\u001b[1;32m    467\u001b[0m \u001b[38;5;28mself\u001b[39m\u001b[38;5;241m.\u001b[39m_seeds \u001b[38;5;241m=\u001b[39m seeds\n\u001b[0;32m--> 469\u001b[0m all_results \u001b[38;5;241m=\u001b[39m \u001b[43mParallel\u001b[49m\u001b[43m(\u001b[49m\n\u001b[1;32m    470\u001b[0m \u001b[43m    \u001b[49m\u001b[43mn_jobs\u001b[49m\u001b[38;5;241;43m=\u001b[39;49m\u001b[43mn_jobs\u001b[49m\u001b[43m,\u001b[49m\u001b[43m \u001b[49m\u001b[43mverbose\u001b[49m\u001b[38;5;241;43m=\u001b[39;49m\u001b[38;5;28;43mself\u001b[39;49m\u001b[38;5;241;43m.\u001b[39;49m\u001b[43mverbose\u001b[49m\u001b[43m,\u001b[49m\u001b[43m \u001b[49m\u001b[38;5;241;43m*\u001b[39;49m\u001b[38;5;241;43m*\u001b[39;49m\u001b[38;5;28;43mself\u001b[39;49m\u001b[38;5;241;43m.\u001b[39;49m\u001b[43m_parallel_args\u001b[49m\u001b[43m(\u001b[49m\u001b[43m)\u001b[49m\n\u001b[1;32m    471\u001b[0m \u001b[43m\u001b[49m\u001b[43m)\u001b[49m\u001b[43m(\u001b[49m\n\u001b[1;32m    472\u001b[0m \u001b[43m    \u001b[49m\u001b[43mdelayed\u001b[49m\u001b[43m(\u001b[49m\u001b[43m_parallel_build_estimators\u001b[49m\u001b[43m)\u001b[49m\u001b[43m(\u001b[49m\n\u001b[1;32m    473\u001b[0m \u001b[43m        \u001b[49m\u001b[43mn_estimators\u001b[49m\u001b[43m[\u001b[49m\u001b[43mi\u001b[49m\u001b[43m]\u001b[49m\u001b[43m,\u001b[49m\n\u001b[1;32m    474\u001b[0m \u001b[43m        \u001b[49m\u001b[38;5;28;43mself\u001b[39;49m\u001b[43m,\u001b[49m\n\u001b[1;32m    475\u001b[0m \u001b[43m        \u001b[49m\u001b[43mX\u001b[49m\u001b[43m,\u001b[49m\n\u001b[1;32m    476\u001b[0m \u001b[43m        \u001b[49m\u001b[43my\u001b[49m\u001b[43m,\u001b[49m\n\u001b[1;32m    477\u001b[0m \u001b[43m        \u001b[49m\u001b[43msample_weight\u001b[49m\u001b[43m,\u001b[49m\n\u001b[1;32m    478\u001b[0m \u001b[43m        \u001b[49m\u001b[43mseeds\u001b[49m\u001b[43m[\u001b[49m\u001b[43mstarts\u001b[49m\u001b[43m[\u001b[49m\u001b[43mi\u001b[49m\u001b[43m]\u001b[49m\u001b[43m \u001b[49m\u001b[43m:\u001b[49m\u001b[43m \u001b[49m\u001b[43mstarts\u001b[49m\u001b[43m[\u001b[49m\u001b[43mi\u001b[49m\u001b[43m \u001b[49m\u001b[38;5;241;43m+\u001b[39;49m\u001b[43m \u001b[49m\u001b[38;5;241;43m1\u001b[39;49m\u001b[43m]\u001b[49m\u001b[43m]\u001b[49m\u001b[43m,\u001b[49m\n\u001b[1;32m    479\u001b[0m \u001b[43m        \u001b[49m\u001b[43mtotal_n_estimators\u001b[49m\u001b[43m,\u001b[49m\n\u001b[1;32m    480\u001b[0m \u001b[43m        \u001b[49m\u001b[43mverbose\u001b[49m\u001b[38;5;241;43m=\u001b[39;49m\u001b[38;5;28;43mself\u001b[39;49m\u001b[38;5;241;43m.\u001b[39;49m\u001b[43mverbose\u001b[49m\u001b[43m,\u001b[49m\n\u001b[1;32m    481\u001b[0m \u001b[43m        \u001b[49m\u001b[43mcheck_input\u001b[49m\u001b[38;5;241;43m=\u001b[39;49m\u001b[43mcheck_input\u001b[49m\u001b[43m,\u001b[49m\n\u001b[1;32m    482\u001b[0m \u001b[43m    \u001b[49m\u001b[43m)\u001b[49m\n\u001b[1;32m    483\u001b[0m \u001b[43m    \u001b[49m\u001b[38;5;28;43;01mfor\u001b[39;49;00m\u001b[43m \u001b[49m\u001b[43mi\u001b[49m\u001b[43m \u001b[49m\u001b[38;5;129;43;01min\u001b[39;49;00m\u001b[43m \u001b[49m\u001b[38;5;28;43mrange\u001b[39;49m\u001b[43m(\u001b[49m\u001b[43mn_jobs\u001b[49m\u001b[43m)\u001b[49m\n\u001b[1;32m    484\u001b[0m \u001b[43m\u001b[49m\u001b[43m)\u001b[49m\n\u001b[1;32m    486\u001b[0m \u001b[38;5;66;03m# Reduce\u001b[39;00m\n\u001b[1;32m    487\u001b[0m \u001b[38;5;28mself\u001b[39m\u001b[38;5;241m.\u001b[39mestimators_ \u001b[38;5;241m+\u001b[39m\u001b[38;5;241m=\u001b[39m \u001b[38;5;28mlist\u001b[39m(\n\u001b[1;32m    488\u001b[0m     itertools\u001b[38;5;241m.\u001b[39mchain\u001b[38;5;241m.\u001b[39mfrom_iterable(t[\u001b[38;5;241m0\u001b[39m] \u001b[38;5;28;01mfor\u001b[39;00m t \u001b[38;5;129;01min\u001b[39;00m all_results)\n\u001b[1;32m    489\u001b[0m )\n",
      "File \u001b[0;32m/Library/Frameworks/Python.framework/Versions/3.9/lib/python3.9/site-packages/sklearn/utils/parallel.py:67\u001b[0m, in \u001b[0;36mParallel.__call__\u001b[0;34m(self, iterable)\u001b[0m\n\u001b[1;32m     62\u001b[0m config \u001b[38;5;241m=\u001b[39m get_config()\n\u001b[1;32m     63\u001b[0m iterable_with_config \u001b[38;5;241m=\u001b[39m (\n\u001b[1;32m     64\u001b[0m     (_with_config(delayed_func, config), args, kwargs)\n\u001b[1;32m     65\u001b[0m     \u001b[38;5;28;01mfor\u001b[39;00m delayed_func, args, kwargs \u001b[38;5;129;01min\u001b[39;00m iterable\n\u001b[1;32m     66\u001b[0m )\n\u001b[0;32m---> 67\u001b[0m \u001b[38;5;28;01mreturn\u001b[39;00m \u001b[38;5;28;43msuper\u001b[39;49m\u001b[43m(\u001b[49m\u001b[43m)\u001b[49m\u001b[38;5;241;43m.\u001b[39;49m\u001b[38;5;21;43m__call__\u001b[39;49m\u001b[43m(\u001b[49m\u001b[43miterable_with_config\u001b[49m\u001b[43m)\u001b[49m\n",
      "File \u001b[0;32m/Library/Frameworks/Python.framework/Versions/3.9/lib/python3.9/site-packages/joblib/parallel.py:1098\u001b[0m, in \u001b[0;36mParallel.__call__\u001b[0;34m(self, iterable)\u001b[0m\n\u001b[1;32m   1095\u001b[0m     \u001b[38;5;28mself\u001b[39m\u001b[38;5;241m.\u001b[39m_iterating \u001b[38;5;241m=\u001b[39m \u001b[38;5;28;01mFalse\u001b[39;00m\n\u001b[1;32m   1097\u001b[0m \u001b[38;5;28;01mwith\u001b[39;00m \u001b[38;5;28mself\u001b[39m\u001b[38;5;241m.\u001b[39m_backend\u001b[38;5;241m.\u001b[39mretrieval_context():\n\u001b[0;32m-> 1098\u001b[0m     \u001b[38;5;28;43mself\u001b[39;49m\u001b[38;5;241;43m.\u001b[39;49m\u001b[43mretrieve\u001b[49m\u001b[43m(\u001b[49m\u001b[43m)\u001b[49m\n\u001b[1;32m   1099\u001b[0m \u001b[38;5;66;03m# Make sure that we get a last message telling us we are done\u001b[39;00m\n\u001b[1;32m   1100\u001b[0m elapsed_time \u001b[38;5;241m=\u001b[39m time\u001b[38;5;241m.\u001b[39mtime() \u001b[38;5;241m-\u001b[39m \u001b[38;5;28mself\u001b[39m\u001b[38;5;241m.\u001b[39m_start_time\n",
      "File \u001b[0;32m/Library/Frameworks/Python.framework/Versions/3.9/lib/python3.9/site-packages/joblib/parallel.py:975\u001b[0m, in \u001b[0;36mParallel.retrieve\u001b[0;34m(self)\u001b[0m\n\u001b[1;32m    973\u001b[0m \u001b[38;5;28;01mtry\u001b[39;00m:\n\u001b[1;32m    974\u001b[0m     \u001b[38;5;28;01mif\u001b[39;00m \u001b[38;5;28mgetattr\u001b[39m(\u001b[38;5;28mself\u001b[39m\u001b[38;5;241m.\u001b[39m_backend, \u001b[38;5;124m'\u001b[39m\u001b[38;5;124msupports_timeout\u001b[39m\u001b[38;5;124m'\u001b[39m, \u001b[38;5;28;01mFalse\u001b[39;00m):\n\u001b[0;32m--> 975\u001b[0m         \u001b[38;5;28mself\u001b[39m\u001b[38;5;241m.\u001b[39m_output\u001b[38;5;241m.\u001b[39mextend(\u001b[43mjob\u001b[49m\u001b[38;5;241;43m.\u001b[39;49m\u001b[43mget\u001b[49m\u001b[43m(\u001b[49m\u001b[43mtimeout\u001b[49m\u001b[38;5;241;43m=\u001b[39;49m\u001b[38;5;28;43mself\u001b[39;49m\u001b[38;5;241;43m.\u001b[39;49m\u001b[43mtimeout\u001b[49m\u001b[43m)\u001b[49m)\n\u001b[1;32m    976\u001b[0m     \u001b[38;5;28;01melse\u001b[39;00m:\n\u001b[1;32m    977\u001b[0m         \u001b[38;5;28mself\u001b[39m\u001b[38;5;241m.\u001b[39m_output\u001b[38;5;241m.\u001b[39mextend(job\u001b[38;5;241m.\u001b[39mget())\n",
      "File \u001b[0;32m/Library/Frameworks/Python.framework/Versions/3.9/lib/python3.9/multiprocessing/pool.py:765\u001b[0m, in \u001b[0;36mApplyResult.get\u001b[0;34m(self, timeout)\u001b[0m\n\u001b[1;32m    764\u001b[0m \u001b[38;5;28;01mdef\u001b[39;00m \u001b[38;5;21mget\u001b[39m(\u001b[38;5;28mself\u001b[39m, timeout\u001b[38;5;241m=\u001b[39m\u001b[38;5;28;01mNone\u001b[39;00m):\n\u001b[0;32m--> 765\u001b[0m     \u001b[38;5;28;43mself\u001b[39;49m\u001b[38;5;241;43m.\u001b[39;49m\u001b[43mwait\u001b[49m\u001b[43m(\u001b[49m\u001b[43mtimeout\u001b[49m\u001b[43m)\u001b[49m\n\u001b[1;32m    766\u001b[0m     \u001b[38;5;28;01mif\u001b[39;00m \u001b[38;5;129;01mnot\u001b[39;00m \u001b[38;5;28mself\u001b[39m\u001b[38;5;241m.\u001b[39mready():\n\u001b[1;32m    767\u001b[0m         \u001b[38;5;28;01mraise\u001b[39;00m \u001b[38;5;167;01mTimeoutError\u001b[39;00m\n",
      "File \u001b[0;32m/Library/Frameworks/Python.framework/Versions/3.9/lib/python3.9/multiprocessing/pool.py:762\u001b[0m, in \u001b[0;36mApplyResult.wait\u001b[0;34m(self, timeout)\u001b[0m\n\u001b[1;32m    761\u001b[0m \u001b[38;5;28;01mdef\u001b[39;00m \u001b[38;5;21mwait\u001b[39m(\u001b[38;5;28mself\u001b[39m, timeout\u001b[38;5;241m=\u001b[39m\u001b[38;5;28;01mNone\u001b[39;00m):\n\u001b[0;32m--> 762\u001b[0m     \u001b[38;5;28;43mself\u001b[39;49m\u001b[38;5;241;43m.\u001b[39;49m\u001b[43m_event\u001b[49m\u001b[38;5;241;43m.\u001b[39;49m\u001b[43mwait\u001b[49m\u001b[43m(\u001b[49m\u001b[43mtimeout\u001b[49m\u001b[43m)\u001b[49m\n",
      "File \u001b[0;32m/Library/Frameworks/Python.framework/Versions/3.9/lib/python3.9/threading.py:574\u001b[0m, in \u001b[0;36mEvent.wait\u001b[0;34m(self, timeout)\u001b[0m\n\u001b[1;32m    572\u001b[0m signaled \u001b[38;5;241m=\u001b[39m \u001b[38;5;28mself\u001b[39m\u001b[38;5;241m.\u001b[39m_flag\n\u001b[1;32m    573\u001b[0m \u001b[38;5;28;01mif\u001b[39;00m \u001b[38;5;129;01mnot\u001b[39;00m signaled:\n\u001b[0;32m--> 574\u001b[0m     signaled \u001b[38;5;241m=\u001b[39m \u001b[38;5;28;43mself\u001b[39;49m\u001b[38;5;241;43m.\u001b[39;49m\u001b[43m_cond\u001b[49m\u001b[38;5;241;43m.\u001b[39;49m\u001b[43mwait\u001b[49m\u001b[43m(\u001b[49m\u001b[43mtimeout\u001b[49m\u001b[43m)\u001b[49m\n\u001b[1;32m    575\u001b[0m \u001b[38;5;28;01mreturn\u001b[39;00m signaled\n",
      "File \u001b[0;32m/Library/Frameworks/Python.framework/Versions/3.9/lib/python3.9/threading.py:312\u001b[0m, in \u001b[0;36mCondition.wait\u001b[0;34m(self, timeout)\u001b[0m\n\u001b[1;32m    310\u001b[0m \u001b[38;5;28;01mtry\u001b[39;00m:    \u001b[38;5;66;03m# restore state no matter what (e.g., KeyboardInterrupt)\u001b[39;00m\n\u001b[1;32m    311\u001b[0m     \u001b[38;5;28;01mif\u001b[39;00m timeout \u001b[38;5;129;01mis\u001b[39;00m \u001b[38;5;28;01mNone\u001b[39;00m:\n\u001b[0;32m--> 312\u001b[0m         \u001b[43mwaiter\u001b[49m\u001b[38;5;241;43m.\u001b[39;49m\u001b[43macquire\u001b[49m\u001b[43m(\u001b[49m\u001b[43m)\u001b[49m\n\u001b[1;32m    313\u001b[0m         gotit \u001b[38;5;241m=\u001b[39m \u001b[38;5;28;01mTrue\u001b[39;00m\n\u001b[1;32m    314\u001b[0m     \u001b[38;5;28;01melse\u001b[39;00m:\n",
      "\u001b[0;31mKeyboardInterrupt\u001b[0m: "
     ]
    }
   ],
   "source": [
    "\"\"\"\n",
    "Now that we have a baseline to work off of... Try to add one more features to random_cols and see if anything yields something promising\n",
    "\"\"\"\n",
    "best_roc = 0.6\n",
    "best_new_col = \"\"\n",
    "for new_feature in used_cols:\n",
    "    if new_feature not in random_cols:\n",
    "        random_cols.append(new_feature)\n",
    "        filtered_data = good_cols[random_cols]\n",
    "        X_train, X_test, y_train, y_test = train_test_split(filtered_data, y_true, test_size=0.3, random_state=42)\n",
    "        model_list = train(isf, 7, 30000, filtered_data)\n",
    "        y_processed = y_test.values\n",
    "        y_pred_binary = predict(model_list, X_test)\n",
    "        roc = roc_auc_score(y_processed, y_pred_binary)\n",
    "        if roc > best_roc:\n",
    "            best_roc = roc\n",
    "            best_new_col = new_feature\n",
    "            print(new_feature)\n",
    "            print(roc)\n",
    "    random_cols.pop() # Remove that feature to test the next one\n",
    "            "
   ]
  },
  {
   "cell_type": "code",
   "execution_count": 59,
   "metadata": {},
   "outputs": [
    {
     "data": {
      "text/plain": [
       "0.6444493364214572"
      ]
     },
     "execution_count": 59,
     "metadata": {},
     "output_type": "execute_result"
    }
   ],
   "source": [
    "# y_processed = y_test.values\n",
    "# y_pred = isf.predict(X_test) # predict detects if it's an inliner, where inliners are 1 and outliers are -1\n",
    "# y_pred_binary = [1 if x == -1 else 0 for x in y_pred] # Turn it into what we want with 1 being an outlier and 0 being an inlier\n",
    "y_processed = y_test.values\n",
    "y_pred_binary = predict(model_list, X_test)\n",
    "roc = roc_auc_score(y_processed, y_pred_binary)\n",
    "roc"
   ]
  },
  {
   "cell_type": "code",
   "execution_count": 12,
   "metadata": {},
   "outputs": [
    {
     "data": {
      "text/plain": [
       "array([[227605,  69181],\n",
       "       [  2272,    942]])"
      ]
     },
     "execution_count": 12,
     "metadata": {},
     "output_type": "execute_result"
    }
   ],
   "source": [
    "conf_matrix = confusion_matrix(y_test, y_pred_binary)\n",
    "conf_matrix"
   ]
  }
 ],
 "metadata": {
  "kernelspec": {
   "display_name": "Python 3",
   "language": "python",
   "name": "python3"
  },
  "language_info": {
   "codemirror_mode": {
    "name": "ipython",
    "version": 3
   },
   "file_extension": ".py",
   "mimetype": "text/x-python",
   "name": "python",
   "nbconvert_exporter": "python",
   "pygments_lexer": "ipython3",
   "version": "3.9.12"
  }
 },
 "nbformat": 4,
 "nbformat_minor": 2
}
